{
 "cells": [
  {
   "cell_type": "code",
   "execution_count": 1,
   "id": "08d48c8a",
   "metadata": {},
   "outputs": [
    {
     "name": "stdout",
     "output_type": "stream",
     "text": [
      "Defaulting to user installation because normal site-packages is not writeableNote: you may need to restart the kernel to use updated packages.\n",
      "\n",
      "Requirement already satisfied: mysql-connector-python in c:\\users\\prachee kashnyal\\appdata\\roaming\\python\\python311\\site-packages (9.0.0)\n",
      "Requirement already satisfied: pandas in c:\\programdata\\anaconda3\\lib\\site-packages (1.5.3)\n",
      "Requirement already satisfied: sqlparse in c:\\users\\prachee kashnyal\\appdata\\roaming\\python\\python311\\site-packages (0.5.0)\n",
      "Requirement already satisfied: python-dateutil>=2.8.1 in c:\\programdata\\anaconda3\\lib\\site-packages (from pandas) (2.8.2)\n",
      "Requirement already satisfied: pytz>=2020.1 in c:\\programdata\\anaconda3\\lib\\site-packages (from pandas) (2022.7)\n",
      "Requirement already satisfied: numpy>=1.21.0 in c:\\programdata\\anaconda3\\lib\\site-packages (from pandas) (1.24.3)\n",
      "Requirement already satisfied: six>=1.5 in c:\\programdata\\anaconda3\\lib\\site-packages (from python-dateutil>=2.8.1->pandas) (1.16.0)\n"
     ]
    },
    {
     "name": "stderr",
     "output_type": "stream",
     "text": [
      "\n",
      "[notice] A new release of pip is available: 24.1.1 -> 24.1.2\n",
      "[notice] To update, run: python.exe -m pip install --upgrade pip\n"
     ]
    }
   ],
   "source": [
    "pip install mysql-connector-python pandas sqlparse"
   ]
  },
  {
   "cell_type": "code",
   "execution_count": 2,
   "id": "7aae2be2",
   "metadata": {},
   "outputs": [
    {
     "name": "stdout",
     "output_type": "stream",
     "text": [
      "Defaulting to user installation because normal site-packages is not writeable\n",
      "Requirement already satisfied: SQLAlchemy in c:\\programdata\\anaconda3\\lib\\site-packages (1.4.39)\n",
      "Requirement already satisfied: greenlet!=0.4.17 in c:\\programdata\\anaconda3\\lib\\site-packages (from SQLAlchemy) (2.0.1)\n",
      "Note: you may need to restart the kernel to use updated packages.\n"
     ]
    },
    {
     "name": "stderr",
     "output_type": "stream",
     "text": [
      "\n",
      "[notice] A new release of pip is available: 24.1.1 -> 24.1.2\n",
      "[notice] To update, run: python.exe -m pip install --upgrade pip\n"
     ]
    }
   ],
   "source": [
    "pip install SQLAlchemy"
   ]
  },
  {
   "cell_type": "code",
   "execution_count": 3,
   "id": "41959984",
   "metadata": {},
   "outputs": [
    {
     "name": "stdout",
     "output_type": "stream",
     "text": [
      "Defaulting to user installation because normal site-packages is not writeable\n",
      "Requirement already satisfied: mysql-connector-python in c:\\users\\prachee kashnyal\\appdata\\roaming\\python\\python311\\site-packages (9.0.0)\n",
      "Requirement already satisfied: pymysql in c:\\users\\prachee kashnyal\\appdata\\roaming\\python\\python311\\site-packages (1.1.1)\n",
      "Note: you may need to restart the kernel to use updated packages.\n"
     ]
    },
    {
     "name": "stderr",
     "output_type": "stream",
     "text": [
      "\n",
      "[notice] A new release of pip is available: 24.1.1 -> 24.1.2\n",
      "[notice] To update, run: python.exe -m pip install --upgrade pip\n"
     ]
    }
   ],
   "source": [
    "pip install --upgrade mysql-connector-python pymysql"
   ]
  },
  {
   "cell_type": "code",
   "execution_count": 4,
   "id": "e2184d10",
   "metadata": {},
   "outputs": [
    {
     "name": "stdout",
     "output_type": "stream",
     "text": [
      "Connected to the database.\n"
     ]
    },
    {
     "data": {
      "text/plain": [
       "-1"
      ]
     },
     "execution_count": 4,
     "metadata": {},
     "output_type": "execute_result"
    }
   ],
   "source": [
    "import mysql.connector\n",
    "import pandas as pd\n",
    "import sqlparse\n",
    "import time\n",
    "from sqlalchemy import create_engine\n",
    "\n",
    "# Database connection using SQLAlchemy\n",
    "db_config = {\n",
    "    'user': 'root',\n",
    "    'password': 'root',  # Replace with your password\n",
    "    'host': 'localhost',\n",
    "    'database': 'housing'  # Replace with your database name\n",
    "}\n",
    "\n",
    "connection_string = f\"mysql+mysqlconnector://{db_config['user']}:{db_config['password']}@{db_config['host']}/{db_config['database']}\"\n",
    "\n",
    "try:\n",
    "    engine = create_engine(connection_string)\n",
    "    connection = engine.connect()\n",
    "    connection = engine.raw_connection()\n",
    "    cursor = connection.cursor()\n",
    "    print(\"Connected to the database.\")\n",
    "except Exception as err:\n",
    "    print(f\"Error: {err}\")\n",
    "    exit(1)\n",
    "\n",
    "# Load data from CSV into DataFrame (as an example dataset)\n",
    "data = pd.read_csv(r\"C:\\Users\\Prachee Kashnyal\\Desktop\\Nashville_Housingg.csv\")\n",
    "\n",
    "# Remove any leading or trailing spaces in column names\n",
    "data.columns = data.columns.str.strip()\n",
    "\n",
    "# Insert data into the database (assuming a table structure)\n",
    "table_name = 'housingg'\n",
    "data.to_sql(table_name, con=engine, if_exists='replace', index=False)\n",
    "\n",
    "data1 = pd.read_csv(r\"C:\\Users\\Prachee Kashnyal\\Desktop\\Nashville Housing.csv\\Nashville Housing.csv\")\n",
    "\n",
    "# Remove any leading or trailing spaces in column names\n",
    "data1.columns = data1.columns.str.strip()\n",
    "\n",
    "# Insert data into the database (assuming a table structure)\n",
    "table_name1 = 'housing'\n",
    "data.to_sql(table_name1, con=engine, if_exists='replace', index=False)"
   ]
  },
  {
   "cell_type": "code",
   "execution_count": 5,
   "id": "e6abbca6",
   "metadata": {},
   "outputs": [],
   "source": [
    "import sqlparse"
   ]
  },
  {
   "cell_type": "code",
   "execution_count": 11,
   "id": "fa20945a",
   "metadata": {},
   "outputs": [],
   "source": [
    "import time\n",
    "\n",
    "def execute_query(cursor, query):\n",
    "    start_time = time.time()\n",
    "    cursor.execute(query)\n",
    "    results = cursor.fetchall()\n",
    "    execution_time = time.time() - start_time\n",
    "    return results, execution_time"
   ]
  },
  {
   "cell_type": "code",
   "execution_count": 14,
   "id": "794515a0",
   "metadata": {},
   "outputs": [
    {
     "name": "stdout",
     "output_type": "stream",
     "text": [
      "Enter SQL query: SELECT OwnerName FROM housing WHERE (SELECT COUNT(*) FROM housingg WHERE housingg.UniqueID = housing.UniqueID) > 0;\n",
      "Original Query:\n",
      "SELECT OwnerName FROM housing WHERE (SELECT COUNT(*) FROM housingg WHERE housingg.UniqueID = housing.UniqueID) > 0;\n",
      "Execution Time: 0.030750513076782227 seconds\n",
      "Results: [('FRAZIER, CYRENTHA LYNETTE',), ('BONER, CHARLES & LESLIE',), ('WILSON, JAMES E. & JOANNE',), ('BAKER, JAY K. & SUSAN E.',), ('POST, CHRISTOPHER M. & SAMANTHA C.',), ('FIELDS, KAREN L. & BRENT A.',), ('HINTON, MICHAEL R. & CYNTHIA M. MOORE',), ('BAILOR, DARRELL & TAMMY',), ('ROBERTS, MISTY L. & ROBERT M.',), ('LEE, JEFFREY & NANCY',), (None,), (None,), (None,), ('URRUTIA, CARLOS MIGUEL & REBECCA',), ('SALDANA, ALMA J. & EDWARD A., II',), ('MCKINNEY, ROBERT K. & BETH E.',), ('MILLER, JAMES L. & EILEEN T.',), ('SANDAGE, LEAH S.',), ('VAUGHN, JOHN',)]\n",
      "Optimized Query:\n",
      " SELECT OwnerName FROM housing WHERE  EXISTS (SELECT 1 FROM housingg WHERE housingg.UniqueID = housing.UniqueID);\n",
      "Execution Time: 0.0 seconds\n",
      "Results: [('FRAZIER, CYRENTHA LYNETTE',), ('BONER, CHARLES & LESLIE',), ('WILSON, JAMES E. & JOANNE',), ('BAKER, JAY K. & SUSAN E.',), ('POST, CHRISTOPHER M. & SAMANTHA C.',), ('FIELDS, KAREN L. & BRENT A.',), ('HINTON, MICHAEL R. & CYNTHIA M. MOORE',), ('BAILOR, DARRELL & TAMMY',), ('ROBERTS, MISTY L. & ROBERT M.',), ('LEE, JEFFREY & NANCY',), (None,), (None,), (None,), ('URRUTIA, CARLOS MIGUEL & REBECCA',), ('SALDANA, ALMA J. & EDWARD A., II',), ('MCKINNEY, ROBERT K. & BETH E.',), ('MILLER, JAMES L. & EILEEN T.',), ('SANDAGE, LEAH S.',), ('VAUGHN, JOHN',)]\n",
      "\n",
      "Best Query:\n",
      "SELECT OwnerName FROM housing WHERE  EXISTS (SELECT 1 FROM housingg WHERE housingg.UniqueID = housing.UniqueID);\n",
      "Best Execution Time: 0.0 seconds\n",
      "Best Results: [('FRAZIER, CYRENTHA LYNETTE',), ('BONER, CHARLES & LESLIE',), ('WILSON, JAMES E. & JOANNE',), ('BAKER, JAY K. & SUSAN E.',), ('POST, CHRISTOPHER M. & SAMANTHA C.',), ('FIELDS, KAREN L. & BRENT A.',), ('HINTON, MICHAEL R. & CYNTHIA M. MOORE',), ('BAILOR, DARRELL & TAMMY',), ('ROBERTS, MISTY L. & ROBERT M.',), ('LEE, JEFFREY & NANCY',), (None,), (None,), (None,), ('URRUTIA, CARLOS MIGUEL & REBECCA',), ('SALDANA, ALMA J. & EDWARD A., II',), ('MCKINNEY, ROBERT K. & BETH E.',), ('MILLER, JAMES L. & EILEEN T.',), ('SANDAGE, LEAH S.',), ('VAUGHN, JOHN',)]\n"
     ]
    }
   ],
   "source": [
    "import re\n",
    "import sqlparse\n",
    "import time\n",
    "\n",
    "class SQLQueryOptimizer:\n",
    "    def __init__(self, query):\n",
    "        self.query = query\n",
    "        self.parsed_query = None\n",
    "        self.optimized_query = None\n",
    "\n",
    "    def parse_query(self):\n",
    "        self.parsed_query = sqlparse.parse(self.query)[0]\n",
    "\n",
    "    def rewrite_query(self):\n",
    "        query_str = str(self.parsed_query)\n",
    "\n",
    "        # Rule 1: Avoid using functions on columns in the WHERE clause\n",
    "        query_str = self.avoid_functions_in_where(query_str)\n",
    "        \n",
    "        # Rule 2: Use EXISTS() instead of COUNT()\n",
    "        query_str = self.use_exists_instead_of_count(query_str)\n",
    "        \n",
    "        # Rule 3: Replace subqueries in WHERE or HAVING with JOIN\n",
    "        query_str = self.replace_subquery_with_join(query_str)\n",
    "        \n",
    "\n",
    "        # More complex rules can be added here\n",
    "        self.optimized_query = query_str\n",
    "\n",
    "    def avoid_functions_in_where(self, query_str):\n",
    "        patterns = [\n",
    "            # Pattern for LEFT(column, n) = 'value' -> column LIKE 'value%'\n",
    "            {\n",
    "                'pattern': re.compile(r\"LEFT\\((\\w+\\.\\w+), (\\d+)\\) = '(\\w+)'\"),\n",
    "                'replacement': lambda match: f\"{match[0]} LIKE '{match[2]}%'\"\n",
    "            },\n",
    "            # Pattern for scalar value to string representation\n",
    "            {\n",
    "                'pattern': re.compile(r\"(\\w+\\.\\w+) = (\\d+)\"),\n",
    "                'replacement': lambda match: f\"{match[0]} = '{match[1]}'\"\n",
    "            }\n",
    "        ]\n",
    "\n",
    "        for pattern_info in patterns:\n",
    "            pattern = pattern_info['pattern']\n",
    "            replacement = pattern_info['replacement']\n",
    "            matches = pattern.findall(query_str)\n",
    "            for match in matches:\n",
    "                optimized_condition = replacement(match)\n",
    "                query_str = pattern.sub(optimized_condition, query_str, count=1)\n",
    "\n",
    "        return query_str\n",
    "\n",
    "    def use_exists_instead_of_count(self, query_str):\n",
    "        pattern = re.compile(r\"\\(\\s*SELECT\\s+COUNT\\(\\*\\)\\s+FROM\\s+([\\w\\.]+)\\s+WHERE\\s+([\\w\\.]+)\\s*=\\s*([\\w\\.]+)\\s*\\)\\s*>\\s*0\", re.IGNORECASE)\n",
    "        matches = pattern.findall(query_str)\n",
    "        for match in matches:\n",
    "            table, condition_left, condition_right = match\n",
    "            optimized_condition = f\" EXISTS (SELECT 1 FROM {table} WHERE {condition_left} = {condition_right})\"\n",
    "            query_str = pattern.sub(optimized_condition, query_str, count=1)\n",
    "        return query_str\n",
    "    \n",
    "    def replace_subquery_with_join(self, query_str):\n",
    "        pattern = re.compile(r\"\\bWHERE\\s+\\(\\s*SELECT\\s+(.*?)\\s+FROM\\s+(.*?)\\s+WHERE\\s+(.*?)\\)\")\n",
    "        matches = pattern.findall(query_str)\n",
    "        for match in matches:\n",
    "            select_clause, from_clause, where_cla\n",
    "            \n",
    "            use = match\n",
    "            join_condition = f\"{from_clause} ON {where_clause}\"\n",
    "            optimized_condition = f\"JOIN {join_condition}\"\n",
    "            query_str = pattern.sub(optimized_condition, query_str, count=1)\n",
    "\n",
    "        return query_str\n",
    "\n",
    "\n",
    "\n",
    "    def select_plan(self):\n",
    "        return self.optimized_query\n",
    "\n",
    "    def optimize(self):\n",
    "        self.parse_query()\n",
    "        self.rewrite_query()\n",
    "        best_plan = self.select_plan()\n",
    "        return best_plan\n",
    "\n",
    "import time\n",
    "\n",
    "def execute_query(cursor, query):\n",
    "    start_time = time.time()\n",
    "    cursor.execute(query)\n",
    "    results = cursor.fetchall()\n",
    "    execution_time = time.time() - start_time\n",
    "    return results, execution_time\n",
    "\n",
    "def main():\n",
    "    query = input(\"Enter SQL query: \")\n",
    "    \n",
    "    \n",
    "\n",
    "    # Execute the original query\n",
    "    original_results, original_time = execute_query(cursor, query)\n",
    "    print(\"Original Query:\")\n",
    "    print(query)\n",
    "    print(\"Execution Time:\", original_time, \"seconds\")\n",
    "    print(\"Results:\", original_results)\n",
    "\n",
    "    \n",
    "    optimizer = SQLQueryOptimizer(query)\n",
    "    optimized_query= optimizer.optimize()\n",
    "    \n",
    "    \n",
    "    \n",
    "    # Execute the optimized query\n",
    "    optimized_results, optimized_time = execute_query(cursor,optimized_query)\n",
    "    print(f\"Optimized Query:\\n {optimized_query}\")\n",
    "    print(\"Execution Time:\", optimized_time, \"seconds\")\n",
    "    print(\"Results:\", optimized_results)\n",
    "\n",
    "    # Determine which query is better\n",
    "    if original_time < optimized_time:\n",
    "        best_query = query\n",
    "        best_results = original_results\n",
    "        best_time = original_time\n",
    "    else:\n",
    "        best_query = optimized_query\n",
    "        best_results = optimized_results\n",
    "        best_time = optimized_time\n",
    "\n",
    "    print(\"\\nBest Query:\")\n",
    "    print(best_query)\n",
    "    print(\"Best Execution Time:\", best_time, \"seconds\")\n",
    "    print(\"Best Results:\", best_results)\n",
    "\n",
    "if __name__ == \"__main__\":\n",
    "    main()"
   ]
  }
 ],
 "metadata": {
  "kernelspec": {
   "display_name": "Python 3 (ipykernel)",
   "language": "python",
   "name": "python3"
  },
  "language_info": {
   "codemirror_mode": {
    "name": "ipython",
    "version": 3
   },
   "file_extension": ".py",
   "mimetype": "text/x-python",
   "name": "python",
   "nbconvert_exporter": "python",
   "pygments_lexer": "ipython3",
   "version": "3.11.4"
  }
 },
 "nbformat": 4,
 "nbformat_minor": 5
}
